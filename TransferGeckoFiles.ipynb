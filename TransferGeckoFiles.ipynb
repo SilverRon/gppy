{
 "cells": [
  {
   "cell_type": "code",
   "execution_count": 24,
   "metadata": {},
   "outputs": [],
   "source": [
    "import os, glob\n",
    "from astropy.io import fits\n",
    "from util import tool\n",
    "from astropy.table import Table"
   ]
  },
  {
   "cell_type": "code",
   "execution_count": 25,
   "metadata": {},
   "outputs": [
    {
     "name": "stdout",
     "output_type": "stream",
     "text": [
      "['/data4/gecko/factory/gecko/Calib-LOAO-NGC6555-20230421-114409-B-180.com.fits', '/data4/gecko/factory/gecko/Calib-LOAO-NGC6814-20230421-115414-B-180.com.fits']\n"
     ]
    }
   ],
   "source": [
    "path_data = \"/data4/gecko/factory/gecko\"\n",
    "imlist = sorted(glob.glob(f\"{path_data}/C*m.fits\"))\n",
    "print(imlist)"
   ]
  },
  {
   "cell_type": "code",
   "execution_count": 26,
   "metadata": {},
   "outputs": [],
   "source": [
    "obs = 'LOAO'\n",
    "filte = 'B'"
   ]
  },
  {
   "attachments": {},
   "cell_type": "markdown",
   "metadata": {},
   "source": [
    "- Edit test images (OBJECT: to MS230425z)"
   ]
  },
  {
   "cell_type": "code",
   "execution_count": 27,
   "metadata": {},
   "outputs": [],
   "source": [
    "for inim in imlist:\n",
    "    tool.puthdr(inim, 'OBJECT', 'MS230425z', \"\")"
   ]
  },
  {
   "cell_type": "code",
   "execution_count": 28,
   "metadata": {},
   "outputs": [],
   "source": [
    "image_table = Table()\n",
    "image_table['image'] = imlist\n",
    "image_table['object'] = \" \"*20\n",
    "image_table['filter'] = \" \"*5\n",
    "image_table['project'] = \" \"*10\n",
    "image_table['obsmode'] = \" \"*10"
   ]
  },
  {
   "cell_type": "code",
   "execution_count": 29,
   "metadata": {},
   "outputs": [
    {
     "name": "stdout",
     "output_type": "stream",
     "text": [
      "[0] Calib-LOAO-NGC6555-20230421-114409-B-180.com.fits: MS230425z GECKO-MockGW\n",
      "[1] Calib-LOAO-NGC6814-20230421-115414-B-180.com.fits: MS230425z GECKO-MockGW\n"
     ]
    }
   ],
   "source": [
    "objlist = []\n",
    "\n",
    "for ii, inim in enumerate(imlist):\n",
    "\t_hdr = fits.getheader(inim)\n",
    "\t_obj = _hdr['OBJECT']\n",
    "\t_filte = _hdr['FILTER']\n",
    "\n",
    "\tif _obj[:3] == \"MS2\":\n",
    "\t\tproject = \"GECKO\"\n",
    "\t\tobsmode = \"MockGW\"\n",
    "\telif _obj[:2] == \"S2\":\n",
    "\t\tproject = \"GECKO\"\n",
    "\t\tobsmode = \"GW\"\n",
    "\telif \"GRB\" in _obj[:3]:\n",
    "\t\tproject = \"GECKO\"\n",
    "\t\tobsmode = \"GRB\"\n",
    "\telif _obj[:3] == \"FRB\":\n",
    "\t\tproject = \"GECKO\"\n",
    "\t\tobsmode = \"GRB\"\n",
    "\telif _obj[:2] == \"SN\":\n",
    "\t\tproject = \"GECKO\"\n",
    "\t\tobsmode = \"SN\"\n",
    "\telif _obj[:2] == \"AT\":\n",
    "\t\tproject = \"GECKO\"\n",
    "\t\tobsmode = \"ATel\"\n",
    "\telse:\n",
    "\t\tproject = \"IMSNG\"\n",
    "\t\tobsmode = \"Monitor\"\n",
    "\t\n",
    "\timage_table['object'][ii] = _obj\n",
    "\timage_table['filter'][ii] = _filte\n",
    "\timage_table['project'][ii] = project\n",
    "\timage_table['obsmode'][ii] = obsmode\n",
    "\n",
    "\tif _obj not in objlist:\n",
    "\t\tobjlist.append(_obj)\n",
    "\tprint(f\"[{ii}] {os.path.basename(inim)}: {_obj} {project}-{obsmode}\")\n",
    "\n",
    "# objlist = list(set(objlist))\n",
    "objlist = []"
   ]
  },
  {
   "cell_type": "code",
   "execution_count": 31,
   "metadata": {},
   "outputs": [
    {
     "data": {
      "text/html": [
       "<div><i>Table length=2</i>\n",
       "<table id=\"table140355635633104\" class=\"table-striped table-bordered table-condensed\">\n",
       "<thead><tr><th>image</th><th>object</th><th>filter</th><th>project</th><th>obsmode</th></tr></thead>\n",
       "<thead><tr><th>str76</th><th>str20</th><th>str5</th><th>str10</th><th>str10</th></tr></thead>\n",
       "<tr><td>/data4/gecko/factory/gecko/Calib-LOAO-NGC6555-20230421-114409-B-180.com.fits</td><td>MS230425z</td><td>B</td><td>GECKO</td><td>MockGW</td></tr>\n",
       "<tr><td>/data4/gecko/factory/gecko/Calib-LOAO-NGC6814-20230421-115414-B-180.com.fits</td><td>MS230425z</td><td>B</td><td>GECKO</td><td>MockGW</td></tr>\n",
       "</table></div>"
      ],
      "text/plain": [
       "<Table length=2>\n",
       "                                   image                                     ...\n",
       "                                   str76                                     ...\n",
       "---------------------------------------------------------------------------- ...\n",
       "/data4/gecko/factory/gecko/Calib-LOAO-NGC6555-20230421-114409-B-180.com.fits ...\n",
       "/data4/gecko/factory/gecko/Calib-LOAO-NGC6814-20230421-115414-B-180.com.fits ..."
      ]
     },
     "execution_count": 31,
     "metadata": {},
     "output_type": "execute_result"
    }
   ],
   "source": [
    "image_table"
   ]
  },
  {
   "attachments": {},
   "cell_type": "markdown",
   "metadata": {},
   "source": [
    "- Save the file"
   ]
  },
  {
   "cell_type": "code",
   "execution_count": 37,
   "metadata": {},
   "outputs": [
    {
     "name": "stdout",
     "output_type": "stream",
     "text": [
      "mv /data4/gecko/factory/gecko/Calib-LOAO-NGC6555-20230421-114409-B-180.com.fits /data7/GECKO/MS230425z/LOAO/B\n",
      "mv /data4/gecko/factory/gecko/hdCalib-LOAO-NGC6555-20230421-114409-B-180.com.*fits /data7/GECKO/MS230425z/LOAO/B/transients\n",
      "mv /data4/gecko/factory/gecko/Calib-LOAO-NGC6814-20230421-115414-B-180.com.fits /data7/GECKO/MS230425z/LOAO/B\n",
      "mv /data4/gecko/factory/gecko/hdCalib-LOAO-NGC6814-20230421-115414-B-180.com.*fits /data7/GECKO/MS230425z/LOAO/B/transients\n"
     ]
    }
   ],
   "source": [
    "# if project == \"GECKO\":\n",
    "# \tfor obj in objlist:\n",
    "\n",
    "# \t\tprint(path_save)\n",
    "\n",
    "path_save = f\"/data7/GECKO\"\n",
    "\n",
    "for ii, image in enumerate(image_table['image']):\n",
    "\tpath_goal = f\"{path_save}/{image_table['object'][ii]}/{obs}/{image_table['filter'][ii]}\"\n",
    "\tpath_transient = f\"{path_goal}/transients\"\n",
    "\t#\tMain image\n",
    "\tmvcom = f\"mv {image} {path_goal}\"\n",
    "\tprint(mvcom)\n",
    "\t# os.makedirs(path_goal)\n",
    "\t# os.system(mvcom)\n",
    "\n",
    "\ttransientkey = image.replace(\"Calib\", \"hdCalib\").replace(\"fits\", \"*fits\")\n",
    "\ttmvcom = f\"mv {transientkey} {path_transient}\"\n",
    "\tprint(tmvcom)\n",
    "\t# os.makedirs(path_transient)\n",
    "\t# os.system(path_transient)"
   ]
  }
 ],
 "metadata": {
  "kernelspec": {
   "display_name": "gecko",
   "language": "python",
   "name": "python3"
  },
  "language_info": {
   "codemirror_mode": {
    "name": "ipython",
    "version": 3
   },
   "file_extension": ".py",
   "mimetype": "text/x-python",
   "name": "python",
   "nbconvert_exporter": "python",
   "pygments_lexer": "ipython3",
   "version": "3.11.3"
  },
  "orig_nbformat": 4
 },
 "nbformat": 4,
 "nbformat_minor": 2
}
